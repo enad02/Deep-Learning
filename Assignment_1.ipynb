{
  "nbformat": 4,
  "nbformat_minor": 0,
  "metadata": {
    "kernelspec": {
      "name": "python3",
      "display_name": "Python 3"
    },
    "language_info": {
      "codemirror_mode": {
        "name": "ipython",
        "version": 3
      },
      "file_extension": ".py",
      "mimetype": "text/x-python",
      "name": "python",
      "nbconvert_exporter": "python",
      "pygments_lexer": "ipython3",
      "version": "3.7.4"
    },
    "colab": {
      "name": "Assignment -1.ipynb",
      "provenance": [],
      "include_colab_link": true
    },
    "accelerator": "GPU"
  },
  "cells": [
    {
      "cell_type": "markdown",
      "metadata": {
        "id": "view-in-github",
        "colab_type": "text"
      },
      "source": [
        "<a href=\"https://colab.research.google.com/github/enad02/Deep-Learning/blob/master/Assignment_1.ipynb\" target=\"_parent\"><img src=\"https://colab.research.google.com/assets/colab-badge.svg\" alt=\"Open In Colab\"/></a>"
      ]
    },
    {
      "cell_type": "markdown",
      "metadata": {
        "id": "oZKWTAIe7yKW",
        "colab_type": "text"
      },
      "source": [
        "1. Write a program which will find all such numbers which are divisible by 7 but are not a multiple of 5, between 2000 and 3200 (both included). The numbers obtained should be printed in a comma-separated sequence on a single line. "
      ]
    },
    {
      "cell_type": "code",
      "metadata": {
        "id": "rDhbSeOk7yKZ",
        "colab_type": "code",
        "outputId": "51b3af51-a91b-49d4-9d0a-652e95dde995",
        "colab": {
          "base_uri": "https://localhost:8080/",
          "height": 54
        }
      },
      "source": [
        "list=[]\n",
        "for n in range (2000,3200):\n",
        "  if(n%7==0 and n%5!=0):\n",
        "    list.append(n)\n",
        "print(list)\n",
        "\n"
      ],
      "execution_count": 0,
      "outputs": [
        {
          "output_type": "stream",
          "text": [
            "[2002, 2009, 2016, 2023, 2037, 2044, 2051, 2058, 2072, 2079, 2086, 2093, 2107, 2114, 2121, 2128, 2142, 2149, 2156, 2163, 2177, 2184, 2191, 2198, 2212, 2219, 2226, 2233, 2247, 2254, 2261, 2268, 2282, 2289, 2296, 2303, 2317, 2324, 2331, 2338, 2352, 2359, 2366, 2373, 2387, 2394, 2401, 2408, 2422, 2429, 2436, 2443, 2457, 2464, 2471, 2478, 2492, 2499, 2506, 2513, 2527, 2534, 2541, 2548, 2562, 2569, 2576, 2583, 2597, 2604, 2611, 2618, 2632, 2639, 2646, 2653, 2667, 2674, 2681, 2688, 2702, 2709, 2716, 2723, 2737, 2744, 2751, 2758, 2772, 2779, 2786, 2793, 2807, 2814, 2821, 2828, 2842, 2849, 2856, 2863, 2877, 2884, 2891, 2898, 2912, 2919, 2926, 2933, 2947, 2954, 2961, 2968, 2982, 2989, 2996, 3003, 3017, 3024, 3031, 3038, 3052, 3059, 3066, 3073, 3087, 3094, 3101, 3108, 3122, 3129, 3136, 3143, 3157, 3164, 3171, 3178, 3192, 3199]\n"
          ],
          "name": "stdout"
        }
      ]
    },
    {
      "cell_type": "markdown",
      "metadata": {
        "id": "XhWFbxwj7yKe",
        "colab_type": "text"
      },
      "source": [
        "2. Write a Python program to accept the user's first and last name and then getting them printed in the the reverse order with a space between first name and last name"
      ]
    },
    {
      "cell_type": "code",
      "metadata": {
        "id": "aHpXyWSV7yKf",
        "colab_type": "code",
        "outputId": "604b481c-4c2b-4b42-e051-671e25ddbfca",
        "colab": {
          "base_uri": "https://localhost:8080/",
          "height": 68
        }
      },
      "source": [
        "first=input(\"Enter your first name:\" )\n",
        "second=input(\"Enter your last name : \")\n",
        "print(second,\"\",first)\n",
        "\n",
        "\n"
      ],
      "execution_count": 0,
      "outputs": [
        {
          "output_type": "stream",
          "text": [
            "Enter your first name:Prakash\n",
            "Enter your last name : Micheal\n",
            "Micheal  Prakash\n"
          ],
          "name": "stdout"
        }
      ]
    },
    {
      "cell_type": "markdown",
      "metadata": {
        "id": "xja8rP6n7yKj",
        "colab_type": "text"
      },
      "source": [
        "3.Write a Python program to find the volume of a sphere with diameter 12 cm.  \n",
        " \n",
        "Formula: V=4/3 * π * r 3 "
      ]
    },
    {
      "cell_type": "code",
      "metadata": {
        "id": "wvjq7nLbts56",
        "colab_type": "code",
        "outputId": "97089a02-234f-4a1f-9ce4-18778082d713",
        "colab": {
          "base_uri": "https://localhost:8080/",
          "height": 34
        }
      },
      "source": [
        "import math\n",
        "\n",
        "v=4/3*math.pi*6**3\n",
        "\n",
        "print(v)"
      ],
      "execution_count": 0,
      "outputs": [
        {
          "output_type": "stream",
          "text": [
            "904.7786842338603\n"
          ],
          "name": "stdout"
        }
      ]
    },
    {
      "cell_type": "markdown",
      "metadata": {
        "id": "SCpufZk87yKn",
        "colab_type": "text"
      },
      "source": [
        "4.Write a program which accepts a sequence of comma-separated numbers from console and generate a list. "
      ]
    },
    {
      "cell_type": "code",
      "metadata": {
        "id": "dn7gtLo17yKo",
        "colab_type": "code",
        "outputId": "44dfad51-720e-4e46-dc06-6fc03bf48c84",
        "colab": {
          "base_uri": "https://localhost:8080/",
          "height": 68
        }
      },
      "source": [
        "values=input(\"Enter numbers in  a row: \")\n",
        "l=values.split(\",\")\n",
        "t=tuple(l)\n",
        "print(l)\n",
        "print(t)"
      ],
      "execution_count": 0,
      "outputs": [
        {
          "output_type": "stream",
          "text": [
            "Enter numbers in  a row: 1234567\n",
            "['1234567']\n",
            "('1234567',)\n"
          ],
          "name": "stdout"
        }
      ]
    },
    {
      "cell_type": "code",
      "metadata": {
        "id": "1CoF1JAc7yKu",
        "colab_type": "code",
        "colab": {}
      },
      "source": [
        ""
      ],
      "execution_count": 0,
      "outputs": []
    },
    {
      "cell_type": "markdown",
      "metadata": {
        "id": "KP25xeT87yKy",
        "colab_type": "text"
      },
      "source": [
        "6. Write a Python program to reverse a word after accepting the input from the user. \n",
        " \n",
        "Sample Output: \n",
        " \n",
        "Input word: iNeuron \n",
        " \n",
        "Output: norueNi"
      ]
    },
    {
      "cell_type": "code",
      "metadata": {
        "id": "_AS07izlOxsB",
        "colab_type": "code",
        "colab": {}
      },
      "source": [
        ""
      ],
      "execution_count": 0,
      "outputs": []
    },
    {
      "cell_type": "code",
      "metadata": {
        "id": "5zHBp7jw7yKz",
        "colab_type": "code",
        "outputId": "f63e576a-592d-4e4f-ca68-94fae3b3e9a2",
        "colab": {
          "base_uri": "https://localhost:8080/",
          "height": 51
        }
      },
      "source": [
        "str=input(\"enter the word for reversing : \")\n",
        "reverse=''.join(reversed(str))\n",
        "print(reverse)\n"
      ],
      "execution_count": 0,
      "outputs": [
        {
          "output_type": "stream",
          "text": [
            "enter the word for reversing : Micheal\n",
            "laehciM\n"
          ],
          "name": "stdout"
        }
      ]
    },
    {
      "cell_type": "code",
      "metadata": {
        "id": "-VTDXETLOoiA",
        "colab_type": "code",
        "colab": {}
      },
      "source": [
        "str"
      ],
      "execution_count": 0,
      "outputs": []
    },
    {
      "cell_type": "markdown",
      "metadata": {
        "id": "Ljw4ccCq7yK2",
        "colab_type": "text"
      },
      "source": [
        "7. Write a Python Program to print the given string in the format specified in the ​sample output. \n",
        " WE, THE PEOPLE OF INDIA, having solemnly resolved to constitute India into a SOVEREIGN, SOCIALIST, SECULAR, DEMOCRATIC REPUBLIC and to secure to all its citizens \n",
        " \n",
        "Sample Output: \n",
        " \n",
        "WE, THE PEOPLE OF INDIA,   having solemnly resolved to constitute India into a SOVEREIGN, !  SOCIALIST, SECULAR, DEMOCRATIC REPUBLIC    and to secure to all its citizens "
      ]
    },
    {
      "cell_type": "code",
      "metadata": {
        "id": "3Qq8FA687yK3",
        "colab_type": "code",
        "colab": {
          "base_uri": "https://localhost:8080/",
          "height": 34
        },
        "outputId": "a1259553-fc0f-4876-c63d-24e7ec5b6262"
      },
      "source": [
        "print(\"WE, THE PEOPLE OF INDIA, having solemnly resolved to constitute India into a SOVEREIGN,{} SOCIALIST, SECULAR, DEMOCRATIC REPUBLIC and to secure to all its citizens\".format(\"!\"))"
      ],
      "execution_count": 8,
      "outputs": [
        {
          "output_type": "stream",
          "text": [
            "WE, THE PEOPLE OF INDIA, having solemnly resolved to constitute India into a SOVEREIGN,! SOCIALIST, SECULAR, DEMOCRATIC REPUBLIC and to secure to all its citizens\n"
          ],
          "name": "stdout"
        }
      ]
    },
    {
      "cell_type": "code",
      "metadata": {
        "id": "sjlkbwBxUDbv",
        "colab_type": "code",
        "colab": {
          "base_uri": "https://localhost:8080/",
          "height": 34
        },
        "outputId": "d44513aa-0e79-4a73-c14a-abefb952537c"
      },
      "source": [
        "str= \"WE, THE PEOPLE OF INDIA, having solemnly resolved to constitute India into a SOVEREIGN, {}SOCIALIST, SECULAR, DEMOCRATIC REPUBLIC and to secure to all its citizens\"\n",
        "print(str.format(\"!\"))"
      ],
      "execution_count": 9,
      "outputs": [
        {
          "output_type": "stream",
          "text": [
            "WE, THE PEOPLE OF INDIA, having solemnly resolved to constitute India into a SOVEREIGN, !SOCIALIST, SECULAR, DEMOCRATIC REPUBLIC and to secure to all its citizens\n"
          ],
          "name": "stdout"
        }
      ]
    },
    {
      "cell_type": "markdown",
      "metadata": {
        "id": "JzbPKFK37yK6",
        "colab_type": "text"
      },
      "source": [
        "Note : - NOTE:​ ​The​ ​solution​ ​shared​ ​through​ ​Github​ ​should​ ​contain​ ​the​ ​source code​ ​used​ ​ and​  ​the​ ​output"
      ]
    },
    {
      "cell_type": "code",
      "metadata": {
        "id": "73MaSVUL7yK7",
        "colab_type": "code",
        "colab": {}
      },
      "source": [
        ""
      ],
      "execution_count": 0,
      "outputs": []
    }
  ]
}